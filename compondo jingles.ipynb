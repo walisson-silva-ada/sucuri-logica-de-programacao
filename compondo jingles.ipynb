{
 "cells": [
  {
   "cell_type": "markdown",
   "id": "1e6c6b3a",
   "metadata": {},
   "source": [
    "## Compondo Jingles 🎶\n",
    "\n",
    "A. C. Marcos está dando os primeiros passos para ser um compositor de jingles. Ele está tendo alguns problemas, mas ao menos ele está criando melodias agradáveis e ritmos atrativos.\n",
    "\n",
    "Na música, uma nota tem um tom (sua frequência, resultando em quão grave ou agudo é o som) e uma duração (por quanto tempo a nota soa). Neste problema, estamos interessados apenas na duração das notas.\n",
    "\n",
    "Um jingle é dividido em uma sequência de compassos, e um compasso é formado de uma série de notas.\n",
    "\n",
    "A duração de uma nota é indicada pela sua forma. Neste problema, iremos utilizar letras maiúsculas para indicar a duração de uma nota. A seguinte tabela lista todas as notas disponíveis:\n",
    "\n",
    "<img src=\"https://resources.beecrowd.com.br/gallery/images/novos/Jingle%20Composing_PT.png\" style=\"display: block; margin: 1rem auto\" />\n",
    "\n",
    "A duração de um compasso é a soma da duração de suas notas. Nos jingles de Marcos, cada compasso tem a mesma duração. Como Marcos é apenas um iniciante, seu famoso professor Johann Sebastian III o ensinou que a duração de um compasso deve ser sempre 1.\n",
    "\n",
    "Por exemplo, Marcos escreveu uma composição contendo cinco compassos, dentre os quais quatro possuem a duração correta e um está errado. No exemplo abaixo, cada compasso é delimitado com barras e cada nota é representada como na tabela acima.\n",
    "\n",
    "<center>\n",
    "/HH/QQQQ/XXXTXTEQH/W/HW/\n",
    "</center>\n",
    "\n",
    "Marcos gosta de computadores assim como de música. Ele quer que você escreva um programa que determine, para cada uma de suas composições, quantos compassos possuem a duração correta e quais são os compassos com duração incorreta.\n",
    "\n",
    "|  Exemplo de Entrada | Exemplo de Saída     |\n",
    "|:-------------------:|:--------------------:|\n",
    "|/HH/QQQQ/XXXTXTEQH/W/HW/ |\tQtd. de Corretos: 4 |\n",
    "| | Incorretos: HW |\n",
    "| /W/W/SQHES/\t| Qtd. de Corretos: 3|\n",
    "| /WE/TEX/THES/\t| Qtd. de Corretos: 0|\n",
    "| | Incorretos: [WE, TEX, THES] |"
   ]
  },
  {
   "cell_type": "code",
   "execution_count": 1,
   "id": "3df4e201",
   "metadata": {},
   "outputs": [],
   "source": [
    "musica1 = '/HH/QQQQ/XXXTXTEQH/W/HW/'\n",
    "musica2 = '/W/W/SQHES/'\n",
    "musica3 = '/WE/TEX/THES/'\n",
    "\n",
    "teste = {'W':1,'H':1/2,'Q':1/4,'E':1/8,'S':1/16,'T':1/32,'X':1/64}"
   ]
  },
  {
   "cell_type": "code",
   "execution_count": 35,
   "id": "5c601b45",
   "metadata": {},
   "outputs": [],
   "source": []
  },
  {
   "cell_type": "code",
   "execution_count": 36,
   "id": "7561c466",
   "metadata": {},
   "outputs": [],
   "source": []
  },
  {
   "cell_type": "code",
   "execution_count": 3,
   "id": "ed6e5a10",
   "metadata": {},
   "outputs": [
    {
     "name": "stdout",
     "output_type": "stream",
     "text": [
      "Musica: /HH/QQQQ/XXXTXTEQH/W/HW/\n",
      "Qtd de Corretos: 4\n",
      "Incorretos: ['HW']\n"
     ]
    }
   ],
   "source": [
    "musica = musica1\n",
    "\n",
    "\n",
    "##################\n",
    "\n",
    "\n",
    "compassos = musica.split('/')\n",
    "\n",
    "aux = 0\n",
    "corretos = 0 \n",
    "incorretos = []\n",
    "for k in compassos:\n",
    "    if len(k) > 0:\n",
    "        for i in list(k):\n",
    "            aux += teste[i]\n",
    "\n",
    "        #print(k+' '+str(aux))\n",
    "        \n",
    "        if(aux==1):\n",
    "            corretos +=1\n",
    "        else:\n",
    "            incorretos.append(k)\n",
    "        \n",
    "        aux = 0\n",
    "print('Musica: '+musica)\n",
    "print('Qtd de Corretos: '+str(corretos))\n",
    "print('Incorretos: '+ str(incorretos))"
   ]
  },
  {
   "cell_type": "code",
   "execution_count": null,
   "id": "dfa9513f",
   "metadata": {},
   "outputs": [],
   "source": []
  },
  {
   "cell_type": "code",
   "execution_count": null,
   "id": "cd25cf60",
   "metadata": {},
   "outputs": [],
   "source": []
  },
  {
   "cell_type": "code",
   "execution_count": null,
   "id": "3a9d6697",
   "metadata": {},
   "outputs": [],
   "source": []
  }
 ],
 "metadata": {
  "kernelspec": {
   "display_name": "Python 3 (ipykernel)",
   "language": "python",
   "name": "python3"
  },
  "language_info": {
   "codemirror_mode": {
    "name": "ipython",
    "version": 3
   },
   "file_extension": ".py",
   "mimetype": "text/x-python",
   "name": "python",
   "nbconvert_exporter": "python",
   "pygments_lexer": "ipython3",
   "version": "3.9.7"
  },
  "toc": {
   "base_numbering": 1,
   "nav_menu": {},
   "number_sections": false,
   "sideBar": true,
   "skip_h1_title": false,
   "title_cell": "Table of Contents",
   "title_sidebar": "Contents",
   "toc_cell": false,
   "toc_position": {},
   "toc_section_display": true,
   "toc_window_display": true
  }
 },
 "nbformat": 4,
 "nbformat_minor": 5
}
