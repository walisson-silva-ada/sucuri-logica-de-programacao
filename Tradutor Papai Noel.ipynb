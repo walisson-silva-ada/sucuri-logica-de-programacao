{
 "cells": [
  {
   "cell_type": "markdown",
   "id": "14af0331",
   "metadata": {},
   "source": [
    "## Tradutor de Papai Noel 🎅\n",
    "\n",
    "Nicolau já está bastante cansado e sua memória não é mais a mesma. Você, como programador, deverá auxiliar o Papai Noel a gritar a frase \"Feliz Natal\" no idioma correto de cada país de que trenó está sobrevoando.\n",
    "\n",
    "Como você é muito esperto(a), você já criou um pequeno app no seu celular  que irá lhe informar a frase no idioma correto dado o nome do país. Como o trenó é moderno, ele exibe no painel de navegação o nome do país atual.\n",
    "\n",
    "<img src=\"https://www.urionlinejudge.com.br/gallery/images/problems/UOJ_1763.gif\" style=\"display: block; margin: 1rem auto\" />\n",
    "\n",
    "Os dados inseridos no seu app foram:\n",
    "\n",
    "```\n",
    "brasil              Feliz Natal!\n",
    "alemanha            Frohliche Weihnachten!\n",
    "austria             Frohe Weihnacht!\n",
    "coreia              Chuk Sung Tan!\n",
    "espanha             Feliz Navidad!\n",
    "grecia              Kala Christougena!\n",
    "estados-unidos      Merry Christmas!\n",
    "inglaterra          Merry Christmas!\n",
    "australia           Merry Christmas!\n",
    "portugal            Feliz Natal!\n",
    "suecia              God Jul!\n",
    "turquia             Mutlu Noeller\n",
    "argentina           Feliz Navidad!\n",
    "chile               Feliz Navidad!\n",
    "mexico              Feliz Navidad!\n",
    "antardida           Merry Christmas!\n",
    "canada              Merry Christmas!\n",
    "irlanda             Nollaig Shona Dhuit!\n",
    "belgica             Zalig Kerstfeest!\n",
    "italia              Buon Natale!\n",
    "libia               Buon Natale!\n",
    "siria               Milad Mubarak!\n",
    "marrocos            Milad Mubarak!\n",
    "japao               Merii Kurisumasu!\n",
    "```\n",
    "\n",
    "Para não correr o risco de infomar o nome errado você decidiu testar o aplicativo mais algumas vezes. Você irá testar o seu aplicativo com diversos nomes de paises, simulando os dados informados pelo painel de navegação do trenó.\n",
    "\n",
    "O seu aplicativo deverá mostrar na tela a frase no idioma correto. Caso ela não esteja cadastrada, você deverá exibir a mensagem `--- NOT FOUND ---`.\n",
    "\n",
    "\n",
    "|  Exemplo de Entrada | Exemplo de Saída     |\n",
    "|:-------------------:|:--------------------:|\n",
    "| uri-online-judge    | --- NOT FOUND ---    |\n",
    "| alemanha      |  Frohliche Weihnachten!    |\n",
    "| brasil        |  Feliz Natal!              |\n",
    "| austria       |  Frohe Weihnacht!          |"
   ]
  },
  {
   "cell_type": "code",
   "execution_count": 14,
   "id": "f76f92e4",
   "metadata": {},
   "outputs": [],
   "source": [
    "traduz = {\n",
    "'brasil':'Feliz Natal!',\n",
    "'alemanha':'Frohliche Weihnachten!',\n",
    "'austria':'Frohe Weihnacht!',\n",
    "'coreia':'Chuk Sung Tan!',\n",
    "'espanha':'Feliz Navidad!',\n",
    "'grecia':'Kala Christougena!',\n",
    "'estados-unidos':'Merry Christmas!',\n",
    "'inglaterra':'Merry Christmas!',\n",
    "'australia':'Merry Christmas!',\n",
    "'portugal':'Feliz Natal!',\n",
    "'suecia':'God Jul!',\n",
    "'turquia':'Mutlu Noeller!',\n",
    "'argentina':'Feliz Navidad!',\n",
    "'chile':'Feliz Navidad!',\n",
    "'mexico':'Feliz Navidad!',\n",
    "'antardida':'Merry Christmas!',\n",
    "'canada':'Merry Christmas!',\n",
    "'irlanda':'Nollaig Shona Dhuit!',\n",
    "'belgica':'Zalig Kerstfeest!',\n",
    "'italia':'Buon Natale!',\n",
    "'libia':'Buon Natale!',\n",
    "'siria':'Milad Mubarak!',\n",
    "'marrocos':'Milad Mubarak!',\n",
    "'japao':'Merii Kurisumasu!'}"
   ]
  },
  {
   "cell_type": "code",
   "execution_count": 47,
   "id": "b23fdbcd",
   "metadata": {},
   "outputs": [
    {
     "name": "stdout",
     "output_type": "stream",
     "text": [
      "Qual país? antardida\n",
      "Merry Christmas!\n"
     ]
    }
   ],
   "source": [
    "pais = input('Qual país? ')\n",
    "\n",
    "if(list(traduz.keys()).count(pais.lower()) == 0):\n",
    "    print('--- NOT FOUND ---')\n",
    "else:\n",
    "    print(traduz[pais.lower()])"
   ]
  },
  {
   "cell_type": "code",
   "execution_count": null,
   "id": "f365295b",
   "metadata": {},
   "outputs": [],
   "source": []
  }
 ],
 "metadata": {
  "kernelspec": {
   "display_name": "Python 3 (ipykernel)",
   "language": "python",
   "name": "python3"
  },
  "language_info": {
   "codemirror_mode": {
    "name": "ipython",
    "version": 3
   },
   "file_extension": ".py",
   "mimetype": "text/x-python",
   "name": "python",
   "nbconvert_exporter": "python",
   "pygments_lexer": "ipython3",
   "version": "3.9.7"
  },
  "toc": {
   "base_numbering": 1,
   "nav_menu": {},
   "number_sections": false,
   "sideBar": true,
   "skip_h1_title": false,
   "title_cell": "Table of Contents",
   "title_sidebar": "Contents",
   "toc_cell": false,
   "toc_position": {},
   "toc_section_display": true,
   "toc_window_display": true
  }
 },
 "nbformat": 4,
 "nbformat_minor": 5
}
